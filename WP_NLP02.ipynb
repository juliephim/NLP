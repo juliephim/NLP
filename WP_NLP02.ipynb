{
  "nbformat": 4,
  "nbformat_minor": 0,
  "metadata": {
    "colab": {
      "provenance": []
    },
    "kernelspec": {
      "name": "python3",
      "display_name": "Python 3"
    },
    "language_info": {
      "name": "python"
    }
  },
  "cells": [
    {
      "cell_type": "markdown",
      "source": [
        "# **What is Part-of-speech (POS) tagging?**\n",
        "POS tagging is the process of labeling each word in a sentence with its corresponding part of speech, such as noun, verb, adjective, etc. This is important for various natural language processing (NLP) tasks, as it provides grammatical context to the words.\n",
        "\n",
        "\n",
        "##How does it work?\n",
        "1. **Training:** Most POS taggers are trainable. This means that they can learn from a dataset where each word in a sentence is already tagged with its part-of-speech. This dataset is called the training data.\n",
        "2. **Tagging:** Once trained, the tagger can then be used to tag new sentences. It will assign a part-of-speech tag to each word based on the patterns it learned during training.\n",
        "3. **Backoff Chain:** Some taggers can be combined in a sequence. If the first tagger is uncertain about a word, the next one in the sequence can try to tag it, and so on. This increases the overall accuracy."
      ],
      "metadata": {
        "id": "ruBBy2eMB48J"
      }
    },
    {
      "cell_type": "markdown",
      "source": [
        "## **NLTK's UnigramTagger**"
      ],
      "metadata": {
        "id": "cc6vM3llC20O"
      }
    },
    {
      "cell_type": "code",
      "execution_count": 3,
      "metadata": {
        "colab": {
          "base_uri": "https://localhost:8080/"
        },
        "id": "C3KVeeq6B3TG",
        "outputId": "14d7bce2-e0ea-48d9-d809-51a1d49081cc"
      },
      "outputs": [
        {
          "output_type": "stream",
          "name": "stderr",
          "text": [
            "[nltk_data] Downloading package treebank to /root/nltk_data...\n",
            "[nltk_data]   Unzipping corpora/treebank.zip.\n"
          ]
        },
        {
          "output_type": "execute_result",
          "data": {
            "text/plain": [
              "True"
            ]
          },
          "metadata": {},
          "execution_count": 3
        }
      ],
      "source": [
        "#import necessary modules\n",
        "import nltk\n",
        "from nltk.tag import UnigramTagger\n",
        "from nltk.corpus import treebank\n",
        "nltk.download('treebank')\n",
        "#UnigramTagger is the tagger class\n",
        "#treebank is a well-known corpus that contains tagged sentences."
      ]
    },
    {
      "cell_type": "code",
      "source": [
        "#Train the tagger\n",
        "train_sents = treebank.tagged_sents()[:3000]\n",
        "tagger = UnigramTagger(train_sents)"
      ],
      "metadata": {
        "id": "LvNhdZknCc74"
      },
      "execution_count": 4,
      "outputs": []
    },
    {
      "cell_type": "markdown",
      "source": [
        "Here, the first 3000 sentences from the treebank corpus are used to train the UnigramTagger.\n"
      ],
      "metadata": {
        "id": "VE_7diGzCN_R"
      }
    },
    {
      "cell_type": "code",
      "source": [
        "#Sentence\n",
        "treebank.sents()[0]"
      ],
      "metadata": {
        "colab": {
          "base_uri": "https://localhost:8080/"
        },
        "id": "38Fl3OBfDDFP",
        "outputId": "c81e471d-aa49-464e-afd5-e470650096d4"
      },
      "execution_count": 6,
      "outputs": [
        {
          "output_type": "execute_result",
          "data": {
            "text/plain": [
              "['Pierre',\n",
              " 'Vinken',\n",
              " ',',\n",
              " '61',\n",
              " 'years',\n",
              " 'old',\n",
              " ',',\n",
              " 'will',\n",
              " 'join',\n",
              " 'the',\n",
              " 'board',\n",
              " 'as',\n",
              " 'a',\n",
              " 'nonexecutive',\n",
              " 'director',\n",
              " 'Nov.',\n",
              " '29',\n",
              " '.']"
            ]
          },
          "metadata": {},
          "execution_count": 6
        }
      ]
    },
    {
      "cell_type": "code",
      "source": [
        "#Tag the sentence\n",
        "tagger.tag(treebank.sents()[0])"
      ],
      "metadata": {
        "colab": {
          "base_uri": "https://localhost:8080/"
        },
        "id": "S1wkSqJPDrSX",
        "outputId": "66fa249e-fe6b-4536-f996-4d559d91ccf7"
      },
      "execution_count": 7,
      "outputs": [
        {
          "output_type": "execute_result",
          "data": {
            "text/plain": [
              "[('Pierre', 'NNP'),\n",
              " ('Vinken', 'NNP'),\n",
              " (',', ','),\n",
              " ('61', 'CD'),\n",
              " ('years', 'NNS'),\n",
              " ('old', 'JJ'),\n",
              " (',', ','),\n",
              " ('will', 'MD'),\n",
              " ('join', 'VB'),\n",
              " ('the', 'DT'),\n",
              " ('board', 'NN'),\n",
              " ('as', 'IN'),\n",
              " ('a', 'DT'),\n",
              " ('nonexecutive', 'JJ'),\n",
              " ('director', 'NN'),\n",
              " ('Nov.', 'NNP'),\n",
              " ('29', 'CD'),\n",
              " ('.', '.')]"
            ]
          },
          "metadata": {},
          "execution_count": 7
        }
      ]
    },
    {
      "cell_type": "markdown",
      "source": [
        "After training, the tagger is used to tag the first sentence from the treebank corpus. The output is a list of tuples, where each tuple contains a word and its corresponding part-of-speech tag.\n",
        "\n",
        "We use the first 3000 tagged sentences of the treebank corpus as the training set to\n",
        "initialize the UnigramTagger class. Then, we see the first sentence as a list of words,\n",
        "and can see how it is transformed by the tag() function into a list of tagged tokens.\n",
        "\n",
        "Some examples from this tag set include:\n",
        "\n",
        "- NNP: Proper noun, singular\n",
        "- JJ: Adjective\n",
        "- VB: Verb, base form\n",
        "- DT: Determiner"
      ],
      "metadata": {
        "id": "FeG2TS6dDEFW"
      }
    }
  ]
}